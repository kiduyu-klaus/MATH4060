{
  "nbformat": 4,
  "nbformat_minor": 0,
  "metadata": {
    "colab": {
      "name": "MidtermProject1.ipynb",
      "provenance": [],
      "collapsed_sections": [],
      "include_colab_link": true
    },
    "kernelspec": {
      "name": "python3",
      "display_name": "Python 3"
    },
    "language_info": {
      "name": "python"
    }
  },
  "cells": [
    {
      "cell_type": "markdown",
      "metadata": {
        "id": "view-in-github",
        "colab_type": "text"
      },
      "source": [
        "<a href=\"https://colab.research.google.com/github/rproner1/MATH4060/blob/main/MidtermProject1.ipynb\" target=\"_parent\"><img src=\"https://colab.research.google.com/assets/colab-badge.svg\" alt=\"Open In Colab\"/></a>"
      ]
    },
    {
      "cell_type": "code",
      "execution_count": 1,
      "metadata": {
        "id": "FrsX7ycVxemp"
      },
      "outputs": [],
      "source": [
        "import itertools\n",
        "import jax.numpy as jnp\n",
        "import matplotlib.pyplot as plt\n",
        "from jax import random as jrandom\n",
        "from jax import nn as jnn\n",
        "import random\n",
        "import time\n",
        "import math"
      ]
    },
    {
      "cell_type": "markdown",
      "source": [
        "# Problem 1 - Simulating a Markov chain with uniform random variables\n",
        "\n",
        "Consider a Markov chain on the state space $S = \\{0, 1, . . . , N_{state}−1\\}$ with an $N_{state} \\times N_{state}$ transition matrix\n",
        "$P$. Write a program that inputs the transition matrix $P$ (as a numpy array of shape $(N_{state},N_{state})$, an initial\n",
        "state $x_0 \\in S$, a random uniform variable $U \\in (0, 1)$ and returns a random state $X_1 \\in S$ so that $X_1$ is a sample\n",
        "of the Markov chain at time 1. For full effciency marks, minimize the number of if statements/for loops that are\n",
        "needed by using numpy vector functions instead. (Hint: Its possible to use make a version of this that uses the\n",
        "numpy function searchsorted)"
      ],
      "metadata": {
        "id": "t8YlcbPP_W97"
      }
    },
    {
      "cell_type": "code",
      "source": [
        "def Markov_chain_sim(P,X_0,U):\n",
        "  '''Given X_0 and the transition matrix P, gives a possible X_1 \n",
        "     using a uniform [0,1] random variable'''\n",
        "  #----------------\n",
        "  #Input: \n",
        "  #  P = An array of shape (N,N) where the entries are non-negative and each row sums to 1  \n",
        "  #  x_0 = An integer from the state space [0,N-1]\n",
        "  #  U = A real number between [0,1] which is generated as a uniform random variable\n",
        "  #Ouput:\n",
        "  #  An integer from the state space [0,N-1] which gives the location of the Markov chain at time X_1\n",
        "  # ----------------\n",
        "\n",
        "\n",
        "  # Number of states\n",
        "  N_state = P.shape[1]\n",
        "  \n",
        "  # State space\n",
        "  S = list(range(N_state))\n",
        "\n",
        "  if X_0 >= N_state:\n",
        "    raise Exception(\"Error: nonexistent state entered. Please enter a state in {0, 1, ..., N_state - 1}.\")\n",
        "\n",
        "  # initial state vector\n",
        "  V_0 = jnp.array([1.0 if s == X_0 else 0.0 for s in S])\n",
        "  print(V_0)\n",
        "\n",
        "  V_1 = jnp.matmul(V_0, P)\n",
        "  print(\"v1 =\", V_1)\n",
        "  print(\"cumsum v1 =\", jnp.cumsum(V_1))\n",
        "  print(\"U = %f\" %U)\n",
        "  X_1 = jnp.searchsorted(jnp.cumsum(V_1), U)\n",
        "\n",
        "  return X_1"
      ],
      "metadata": {
        "id": "4RDHUEHT_ZMp"
      },
      "execution_count": null,
      "outputs": []
    },
    {
      "cell_type": "code",
      "source": [
        "# initial state\n",
        "X_0 = 2\n",
        "\n",
        "# transition matrix\n",
        "P = jnp.array([[0.5, 0., 0., 0., 0.5],\n",
        "               [0.7, 0., 0., 0., 0.3],\n",
        "               [0., 0.9, 0.1, 0., 0.],\n",
        "               [0, 0.75, 0.25, 0., 0.],\n",
        "               [0., 0.6, 0., 0.4, 0.]])\n",
        "\n",
        "U = random.uniform(0, 1)\n",
        "\n",
        "print(\"X_1 =\", Markov_chain_sim(P, X_0, U))"
      ],
      "metadata": {
        "id": "e4CfoO7zhpUS",
        "outputId": "42829350-8efd-4627-cdf0-b084cdb9c917",
        "colab": {
          "base_uri": "https://localhost:8080/"
        }
      },
      "execution_count": null,
      "outputs": [
        {
          "output_type": "stream",
          "name": "stdout",
          "text": [
            "[0. 0. 1. 0. 0.]\n",
            "v1 = [0.  0.9 0.1 0.  0. ]\n",
            "cumsum v1 = [0.  0.9 1.  1.  1. ]\n",
            "U = 0.660071\n",
            "X_1 = 1\n"
          ]
        }
      ]
    },
    {
      "cell_type": "markdown",
      "source": [
        "The reason we use a uniform random variable is to choose a random state $X_1$. By creating a cumulative sum vector and using the `jnp.searchsorted()` function,\n",
        "We get a random index (state) from our vector $V_1$. Using this method, we account for the probabilities of being in certain states, since for a continuous uniform random variable $X$\n",
        "\n",
        "$$\n",
        "P(a \\leq X \\leq b) = \\int_a^b \\frac{1}{b-a} dx\n",
        "$$\n",
        "\n",
        "As an example, consider the weather model from Problem 2. Our initial state vector $\\mathbf{v}_0 $ and transition probability matrix $\\mathbf{P}$ are\n",
        "\n",
        "$$\n",
        "\\mathbf{v}_0 = [0, 0, 1, 0, 0];\\qquad \\mathbf{P} = \n",
        "\\begin{bmatrix}\n",
        "  0.5 & 0 & 0 & 0 & 0.5 \\\\\n",
        "  0.7 & 0 & 0 & 0 & 0.3 \\\\\n",
        "  0 & 0.9 & 0.1 & 0 & 0 \\\\\n",
        "  0 & 0.75 & 0.25 & 0 & 0 \\\\\n",
        "  0 & 0.6 & 0 & 0.4 & 0\n",
        "\\end{bmatrix}\n",
        "$$\n",
        "\n",
        "The the probabilities of the five states are given by the vector $\\mathbf{v}_1 = \\mathbf{v}_0 \\cdot \\mathbf{P} = [0.0, 0.9, 0.1, 0.0, 0.0]$. Then the probability of being in state 1 (indexed from 0) is \n",
        "\n",
        "$$\n",
        "P(0 \\leq X \\leq 0.9) = \\int_0^{0.9} \\frac{1}{1-0} dx = 0.90\n",
        "$$\n",
        "\n",
        "and the probability of being in state 2 (indexed from 0) is\n",
        "\n",
        "$$\n",
        "P(0.9 \\leq X \\leq 1.0) = \\int_{0.9}^{1.0} \\frac{1}{1-0} dx = 0.10\n",
        "$$\n",
        "\n",
        "So we see that the probability of a random state $X_1$ is proportional to the interval size in the vector $\\mathbf{v}_1$. It is easy to see that states 3 and 4 are impossible."
      ],
      "metadata": {
        "id": "_882Tr9E1GQE"
      }
    },
    {
      "cell_type": "markdown",
      "source": [
        "# Problem 2 - A weather model\n",
        "\n",
        "On any given day, it is either rainy or sunny. A model for the weather is the\n",
        "following rules which are applied in order (i.e. rule 1 is applied if possible; if it does not apply, then rule 2 is applied etc.)\n",
        "\n",
        "1. If it is sunny today and it was sunny yesterday, then the forecast for the\n",
        "next day is 50% rainy - 50% sunny.\n",
        "2. If it is sunny today, but it was rainy yesterday, then the forecast for the\n",
        "next day is 30% rainy - 70% sunny\n",
        "3. Otherwise, if has been rainy for three days in a row, the forecast for the\n",
        "next day is 10% rainy - 90% sunny.\n",
        "4. Otherwise, if has been rainy for two days in a row, the forecast for the\n",
        "next day is 25% rainy - 75% sunny.\n",
        "5. Otherwise, if it is rainy today, the forecast for the next day is 40% rainy - 60% sunny.\n",
        "\n",
        "a) Find a Markov chain to model this problem. Be sure to clearly indicate\n",
        "the state space you are using is, what the transition matrix is and draw the\n",
        "corresponding directed graph of the Markov chain.\n",
        "\n",
        "b) Write a program that inputs an integer n and outputs the exact (up to\n",
        "computer precision) probability that it is rainy n days from now given that it is sunny today. Draw a graph of this probability as function of $n$ for $n \\in [0, 100]$.\n",
        "\n",
        "c) Calculate the exact value of\n",
        "$ \\lim_{n\\to ∞}P(\\text{Rainy on day n}|\\text{Sunny today and sunny yesterday})$"
      ],
      "metadata": {
        "id": "bm3Z_F1UxkV3"
      }
    },
    {
      "cell_type": "markdown",
      "source": [
        "## 2a Solution\n",
        "\n",
        "The above is not a Markov process. However, we can transform it into one by defining the appropriate state space. Let $X_n$, n= 0, 1, 2, ..., represent the weather over the past three days. Then $X_n$ is a Markov chain with the state space $S = \\{\\text{Sunny today and yesterday, Sunny today but rainy yesterday, Rainy three days in a row, Rainy two days in a row, Rainy today}\\}$ and probability transition matrix $\\mathbf{P}$ given by\n",
        "\n",
        "\\begin{bmatrix}\n",
        "  0.5 & 0 & 0 & 0 & 0.5 \\\\\n",
        "  0.7 & 0 & 0 & 0 & 0.3 \\\\\n",
        "  0 & 0.9 & 0.1 & 0 & 0 \\\\\n",
        "  0 & 0.75 & 0.25 & 0 & 0 \\\\\n",
        "  0 & 0.6 & 0 & 0.4 & 0\n",
        "\\end{bmatrix}\n",
        "\n",
        "We can represent this Markov chain by the directed graph depicted below"
      ],
      "metadata": {
        "id": "R98KdkDkxv9a"
      }
    },
    {
      "cell_type": "markdown",
      "source": [
        "## 2b Solution\n"
      ],
      "metadata": {
        "id": "_HndY1SNynyP"
      }
    },
    {
      "cell_type": "markdown",
      "source": [
        "For any $n \\in \\mathbb{N}$, the $nth$ day probability vector $\\mathbf{v}_n$ is given by\n",
        "$$\n",
        "\\mathbf{v}_n = \\mathbf{v}_0 ⋅ \\mathbf{P}\n",
        "$$\n",
        "Where $\\mathbf{v}_0$ is the initial state vector and $\\mathbf{P}$ is the transition probability matrix."
      ],
      "metadata": {
        "id": "nbdemXvnpGxy"
      }
    },
    {
      "cell_type": "code",
      "source": [
        "\n",
        "def rainy_probability(n):\n",
        "  #Purpose: Find the exact probability on day n given that is sunny today and sunny yesterday\n",
        "  # -------------------\n",
        "  #Input: \n",
        "  #  n = integer number of days in the future\n",
        "  #Output:\n",
        "  # A single number which is the probabaility it is rainy on day n\n",
        "  # -------------------\n",
        "\n",
        "  \n",
        "  # Initial state vector\n",
        "  v0 = jnp.array([1., 0., 0., 0., 0.])\n",
        "\n",
        "  # Transition matrix\n",
        "  P = jnp.array([[0.5, 0., 0., 0., 0.5],\n",
        "                [0.7, 0., 0., 0., 0.3],\n",
        "                [0., 0.9, 0.1, 0., 0.],\n",
        "                [0, 0.75, 0.25, 0., 0.],\n",
        "                [0., 0.6, 0., 0.4, 0.]])\n",
        "\n",
        "  # Probability vector for day n\n",
        "  vn = jnp.matmul(v0, jnp.linalg.matrix_power(P, n))\n",
        "  \n",
        "  # It is rainy in the last three states so we sum their probabilites to get the probability of rain on day n\n",
        "  pRain = vn[2:].sum()\n",
        "\n",
        "  return pRain "
      ],
      "metadata": {
        "id": "iuRcIH5Dyu7J"
      },
      "execution_count": null,
      "outputs": []
    },
    {
      "cell_type": "code",
      "source": [
        "# E.g., 7-day forecast\n",
        "print(rainy_probability(7))"
      ],
      "metadata": {
        "colab": {
          "base_uri": "https://localhost:8080/"
        },
        "id": "1OLzvAVdyhjJ",
        "outputId": "9cb1722b-e6d0-4a3c-e33c-9b10461edac1"
      },
      "execution_count": null,
      "outputs": [
        {
          "output_type": "stream",
          "name": "stdout",
          "text": [
            "0.38536853\n"
          ]
        }
      ]
    },
    {
      "cell_type": "markdown",
      "source": [
        "## 2c Solution\n"
      ],
      "metadata": {
        "id": "0gIFC-egzBYZ"
      }
    },
    {
      "cell_type": "markdown",
      "source": [
        "\n",
        "Every Markov chain has a stationary distribution which satisfies\n",
        "\n",
        "$$\n",
        "\\mathbf{v}_\\infty = \\mathbf{v}_\\infty \\cdot \\mathbf{\\text{P}} \n",
        "$$\n",
        "\n",
        "where $\\mathbf{v}_\\infty = \\lim_{n \\to \\infty} \\mathbf{v}_n = \\lim_{n \\to \\infty} \\mathbf{v}_0 \\cdot \\mathbf{\\text{P}}^n$\n",
        "\\begin{align}\n",
        "  [p_1, p_2, p_3, p_4, p_5] &= [p_1, p_2, p_3, p_4, p_5] \\begin{bmatrix}\n",
        "  0.5 & 0 & 0 & 0 & 0.5 \\\\\n",
        "  0.7 & 0 & 0 & 0 & 0.3 \\\\\n",
        "  0 & 0.9 & 0.1 & 0 & 0 \\\\\n",
        "  0 & 0.75 & 0.25 & 0 & 0 \\\\\n",
        "  0 & 0.6 & 0 & 0.4 & 0\n",
        "\\end{bmatrix}\n",
        "\\end{align}\n",
        "\n",
        "Thus we seek the eigenvector associated with the eigenvalue of 1.\n",
        "\n",
        " \n",
        " Thus we have five equations in five unknowns\n",
        "\\begin{align}\n",
        "0.5p_1 + 0.7p_2 &= p_1 \\implies -0.5p_1 + 0.7p_2 &= 0 \\qquad (1)\\\\\n",
        "0.9p_3 + 0.75p_4 + 0.6p_5 &= p_2 \\implies -p_2 + 0.9p_3 + 0.75p_4 + 0.6p_5 & = 0\\qquad (2) \\\\\n",
        "0.1p_3 + 0.25p_4 &= p_3 \\implies -0.9p_3 +0.25p_4 &= 0 \\qquad (3) \\\\\n",
        "0.4p_5 &= p_4 \\implies -p_4 + 0.4p_5 &= 0 \\qquad (4)\\\\\n",
        "0.5p_1 + 0.3p_2 &= p_5 \\implies 0.5p_1 + 0.3p_2 - p_5 &= 0\\qquad (5)\n",
        "\\end{align}\n",
        "\n",
        "And so we have the form $\\text{A}\\mathbf{x} = \\mathbf{b}$ where \n",
        "$$\\text{A} = \\begin{bmatrix}\n",
        "-0.5 & 0.7 & 0 & 0 & 0\\\\\n",
        "0 & -1 & 0.9 & 0.75 & 0.6\\\\\n",
        "0 & 0 & -0.9 & 0.25 & 0\\\\\n",
        "0 & 0 & 0 & -1 & 0.4\\\\\n",
        "0.5 & 0.3 & 0 & 0 & -1\\\\\n",
        "\\end{bmatrix};\n",
        "\\qquad\\mathbf{x}= [p_1, p_2, p_3, p_4, p_5];\n",
        "\\qquad\\mathbf{b} = \\mathbf{0}\n",
        "$$\n",
        "\n",
        "By row reducing we find that there is an infinite number of solutions. However, we require that $p_1 + p_2 + p_3 + p_4 + p_5 = 1$\n"
      ],
      "metadata": {
        "id": "M33Dw3t5wEG1"
      }
    },
    {
      "cell_type": "code",
      "source": [
        "\n",
        "def limit_rainy_probability():\n",
        "  #Purpose: Find the exact limiting probability it is rainy in the far future\n",
        "  #Output: \n",
        "  # A single number which is the value of the limit\n",
        "\n",
        "  a = jnp.array([[-0.5, 0.7, 0., 0., 0.],\n",
        "               [0., -1., 0.9, 0.75, 0.6],\n",
        "               [0., 0., -0.9, 0.25, 0.],\n",
        "               [0., 0., 0., -1., 0.4],\n",
        "               [0.5, 0.3, 0., 0., -1.]])\n",
        "\n",
        "  # b = [0., 0., 0., 0., 0.]\n",
        "\n",
        "  # v_infty = jnp.linalg.solve(a, b)\n",
        "\n",
        "  w, v = jnp.linalg.eig(a)\n",
        "\n",
        "  return w, v"
      ],
      "metadata": {
        "id": "ImqDXk9OzK_J"
      },
      "execution_count": 7,
      "outputs": []
    },
    {
      "cell_type": "code",
      "source": [
        "print(limit_rainy_probability()[0])"
      ],
      "metadata": {
        "colab": {
          "base_uri": "https://localhost:8080/"
        },
        "id": "DxmTjgDZwxki",
        "outputId": "2bcf97f8-5de3-4e99-df5d-e221bcccf42e"
      },
      "execution_count": 9,
      "outputs": [
        {
          "output_type": "stream",
          "name": "stdout",
          "text": [
            "[ 1.4762918e-08+0.j         -1.0107117e+00+0.45007744j\n",
            " -1.0107117e+00-0.45007744j -1.1892887e+00+0.15289j\n",
            " -1.1892887e+00-0.15289j   ]\n"
          ]
        }
      ]
    },
    {
      "cell_type": "markdown",
      "source": [
        "#Problem 3 - Monkey at a typewriter"
      ],
      "metadata": {
        "id": "c1B9qrq1xmMv"
      }
    },
    {
      "cell_type": "markdown",
      "source": [
        "## 3a Solution"
      ],
      "metadata": {
        "id": "AxC_TWjGzmMj"
      }
    },
    {
      "cell_type": "markdown",
      "source": [
        "## 3b Solution"
      ],
      "metadata": {
        "id": "m5-WbY2lzqar"
      }
    },
    {
      "cell_type": "markdown",
      "source": [
        "##3c Solution"
      ],
      "metadata": {
        "id": "F0Wezh3Gztdy"
      }
    },
    {
      "cell_type": "code",
      "source": [
        "def expected_monkey_time(N_buttons, word_sequence):\n",
        "  #Purpose:\n",
        "  #   Returns the expected amount of time for the monkey to type the word\n",
        "  #Input: \n",
        "  #  N_buttons = An integer, number of buttons on the typewritter\n",
        "  #  word_sequence = An array of shape (N_word,). Each enty is an integer in [0,N_buttons-1]\n",
        "  #Output:\n",
        "  #  A real number which is the expected time until the word appears"
      ],
      "metadata": {
        "id": "0OCwag3Xz3_-"
      },
      "execution_count": null,
      "outputs": []
    },
    {
      "cell_type": "markdown",
      "source": [
        "## 3d Solution"
      ],
      "metadata": {
        "id": "kqAdo8ZoA-uZ"
      }
    },
    {
      "cell_type": "code",
      "source": [
        "def expected_mokey_time_tests():\n",
        "  score = 0\n",
        "  score += (expected_mokey_time(5,jnp.array[0]) == 5)"
      ],
      "metadata": {
        "id": "Pxe8yjam1CIv"
      },
      "execution_count": null,
      "outputs": []
    },
    {
      "cell_type": "markdown",
      "source": [
        "# Problem 4 - Generalized PIG\n"
      ],
      "metadata": {
        "id": "SWyKi8K2xnLo"
      }
    },
    {
      "cell_type": "markdown",
      "source": [
        "## 4a Solution"
      ],
      "metadata": {
        "id": "t5xkaJvY1b3d"
      }
    },
    {
      "cell_type": "markdown",
      "source": [
        "## 4b Solution\n",
        "  "
      ],
      "metadata": {
        "id": "OV5WxeYa1gw8"
      }
    },
    {
      "cell_type": "code",
      "source": [
        "def generalized_pig_E_and_P(target_score,p_bust,v_advance):\n",
        "  #Purpose:\n",
        "  #  Returns the expected value of playing the startegy of re-rolling until you hit target_score in generlized Pig\n",
        "  #Input:\n",
        "  #  target_score = Integer\n",
        "  #  p_bust = real in (0,1), probability to go bust on any given roll\n",
        "  #  v_advance = an array of shape (N_max,) indicating the probability to advance on a non-bust roll\n",
        "\n",
        "  E_score = target_score\n",
        "  P_score = 0.5\n",
        "  return E_score, P_score"
      ],
      "metadata": {
        "id": "WI8rEviU1zRf"
      },
      "execution_count": null,
      "outputs": []
    },
    {
      "cell_type": "markdown",
      "source": [
        "# Problem 5 - Simple Can't Stop Roll Again AI"
      ],
      "metadata": {
        "id": "mW1gUr-yxo6J"
      }
    },
    {
      "cell_type": "markdown",
      "source": [
        "## 5a Solution"
      ],
      "metadata": {
        "id": "HKbxSTnGE3EB"
      }
    },
    {
      "cell_type": "code",
      "source": [
        "def cant_stop_bust_probability(runner_col,illegal_col):\n",
        "  #Purpose:\n",
        "  #  Compute the bust_probability if we were to roll again in Can't Stop\n",
        "  #Input:\n",
        "  #  runner_col = an array of shape (11,) of integers with the runner locations\n",
        "  #  illegal_col = an array of shape (11,) of boolean with which columns are illegal to play in \n",
        "  #NOTE:\n",
        "  #  We assume N_Max_Runners = 3 for this one!\n",
        "\n",
        "  return 0.5"
      ],
      "metadata": {
        "id": "mKNMLfJO5BxG"
      },
      "execution_count": null,
      "outputs": []
    },
    {
      "cell_type": "markdown",
      "source": [
        "## 5b Solution"
      ],
      "metadata": {
        "id": "wSxj92zDE5h4"
      }
    },
    {
      "cell_type": "code",
      "source": [
        "def simple_roll_again_AI(runner_col, illegal_col):\n",
        "  #Purpose:\n",
        "  #  Determine wheter or not to roll again or not in Can't stop given ONLY the current state of the runners and the illegal columns\n",
        "  #  (Note: A better AI would take into account the player positions too, but we are making a very simple AI here)\n",
        "  #Input:\n",
        "  #  runner_col = an array of shape (11,) of integers with the runner locations\n",
        "  #  illegal_col = an array of shape (11,) of boolean with which columns are illegal to play in \n",
        "  #NOTE:\n",
        "  #  We assume N_Max_Runners = 3 for this one!\n",
        "\n",
        "  roll_again = bool(random.randint(0,1))\n",
        "  return roll_again"
      ],
      "metadata": {
        "id": "EO3EZMK0_WWp"
      },
      "execution_count": null,
      "outputs": []
    }
  ]
}