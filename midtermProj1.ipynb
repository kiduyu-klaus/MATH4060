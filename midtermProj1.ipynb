{
  "nbformat": 4,
  "nbformat_minor": 0,
  "metadata": {
    "colab": {
      "name": "midtermProj1.ipynb",
      "provenance": [],
      "collapsed_sections": [],
      "mount_file_id": "1EDGcwlr_tm-Sq5iv3WR1r1htNbEYx7I6",
      "authorship_tag": "ABX9TyOSKD5x5Yc0o0ewPBgt4TKp",
      "include_colab_link": true
    },
    "kernelspec": {
      "name": "python3",
      "display_name": "Python 3"
    },
    "language_info": {
      "name": "python"
    }
  },
  "cells": [
    {
      "cell_type": "markdown",
      "metadata": {
        "id": "view-in-github",
        "colab_type": "text"
      },
      "source": [
        "<a href=\"https://colab.research.google.com/github/rproner1/MATH4060/blob/main/midtermProj1.ipynb\" target=\"_parent\"><img src=\"https://colab.research.google.com/assets/colab-badge.svg\" alt=\"Open In Colab\"/></a>"
      ]
    },
    {
      "cell_type": "markdown",
      "source": [
        "# Midterm Project 1"
      ],
      "metadata": {
        "id": "dDrShOI7_vkx"
      }
    },
    {
      "cell_type": "markdown",
      "source": [
        "## Problem 1\n",
        "\n",
        "On any given day, it is either rainy or sunny. A mo del for the weather is the\n",
        "following rules which are applied in order (i.e. rule 1 is applied if p ossible; if it\n",
        "is do es not apply, then rule 2 is applied etc.)\n",
        "\n",
        "1. If it is sunny today and it was sunny yesterday, then the forecast for the\n",
        "next day is 50% rainy - 50% sunny.\n",
        "2. If it is sunny today, but it was rainy yesterday, then the forecast for the\n",
        "next day is 30% rainy - 70% sunny\n",
        "3. Otherwise, if has been rainy for three days in a row, the forecast for the\n",
        "next day is 10% rainy - 90% sunny.\n",
        "4. Otherwise, if has been rainy for two days in a row, the forecast for the\n",
        "next day is 25% rainy - 75% sunny.\n",
        "5. Otherwise, if it is rainy today, the forecast for the next day is 40% rainy - 60% sunny.\n",
        "\n",
        "a) Find a Markov chain to model this problem. Be sure to clearly indicate\n",
        "the state space you are using is, what the transition matrix is and draw the\n",
        "corresponding directed graph of the Markov chain.\n",
        "\n",
        "b) Write a program that inputs an integer n and uses Monte Carlo method to\n",
        "find the approximate probability that it is rainy n days from now given that it is sunny today and sunny yesterday. Be sure to report error bars on your estimate and clearly explain what the error bars you are using mean. Use enough samples to get this probability accurate to 3 decimal places. Also report the number of samples per second your method gets.\n",
        "\n",
        "c) Write a program that inputs an integer n and outputs the exact (up to\n",
        "computer precision) probability that it is rainy n days from now given that it is sunny today. Draw a graph of this probability as function of $n$ for $n \\in [0, 100]$.\n",
        "\n",
        "d) Use a computer to calculate the exact value of\n",
        "$ \\lim_{n\\to ∞}P(\\text{Rainy on day n}|\\text{Sunny today and sunny yesterday})$\n"
      ],
      "metadata": {
        "id": "1eF3lsro_1FY"
      }
    },
    {
      "cell_type": "markdown",
      "source": [
        "## Solution 1"
      ],
      "metadata": {
        "id": "imrNaffRDTur"
      }
    },
    {
      "cell_type": "markdown",
      "source": [
        "### a) \n",
        "The above is not a Markov process. However, we can transform it into one but considering the state space $S = \\{\\text{SSS, RSS, SRS, RRS, RRR, SRR, SSR, RSR}\\}$. Let the above list of scenarios be the possible states, and let them be denoted by $S_i;\\ i = 1, ..., 5$, where $S_i$ is the $i$th state. For example, sunny today and sunny yesterday is state 1, $S_1 = \\{\\text{SSS, RSS}\\}$ (some states have more than one possible arrangment). The transition matrix is:\n",
        "\n",
        "\\begin{bmatrix}\n",
        "  0.5 & 0 & 0 & 0 & 0.5 \\\\\n",
        "  0.7 & 0 & 0 & 0 & 0.3 \\\\\n",
        "  0 & 0.9 & 0.1 & 0 & 0 \\\\\n",
        "  0 & 0.75 & 0.25 & 0 & 0 \\\\\n",
        "  0 & 0.6 & 0 & 0.4 & 0\n",
        "\\end{bmatrix}\n",
        "\n",
        "We can represent this Markov chain by the directed graph depicted below\n"
      ],
      "metadata": {
        "id": "WPbV_FffBW_D"
      }
    },
    {
      "cell_type": "markdown",
      "source": [
        "### b)"
      ],
      "metadata": {
        "id": "rGlANB51dEYR"
      }
    },
    {
      "cell_type": "code",
      "execution_count": null,
      "metadata": {
        "id": "j79315ZC_n-7"
      },
      "outputs": [],
      "source": [
        "import jax.numpy as jnp\n",
        "import matplotlib.pyplot as plt"
      ]
    },
    {
      "cell_type": "code",
      "source": [
        "def monteCarlo(nSim, nforecast, v0, P, plot=False, state='R'):\n",
        "  \"\"\"\n",
        "  Runs a Monte Carlo simulation and returns the probability that it is rainy n days from now given that it is sunny today and sunny yesterday.\n",
        "\n",
        "  Parameters:\n",
        "  nSim (int): Number of simulations.\n",
        "  nforecast (int): The n-day forecast horizon.\n",
        "  v0 (float array): Initial 1 x K state vector.\n",
        "  P (float array): K x K Transition probability matrix.\n",
        "  plot (bool): If True, plot's the probabilities of being in state on day n.\n",
        "  state: State of interest on day n.\n",
        "\n",
        "  Returns:\n",
        "  expectedVn (float array): Expected nth-day probability vector.\n",
        "  var (float array): Estimated variance vector.\n",
        "  \"\"\"\n",
        "  sumVn = jnp.zeros(shape=(5,), dtype=float)\n",
        "  sumVnSq = jnp.zeros(shape=(5,), dtype=float)\n",
        "  for i in range(nSim):\n",
        "    vni = jnp.matmul(v0, jnp.linalg.matrix_power(P, nforecast))\n",
        "    sumVn += vni\n",
        "    sumVnSq += vni**2\n",
        "\n",
        "  expectedVn = sumVn / nSim\n",
        "  expectedVnSq = sumVnSq / nSim \n",
        "  var = expectedVnSq - expectedVn**2\n",
        "\n",
        "  if plot == True:\n",
        "    probs = []\n",
        "    for i in range(nSim):\n",
        "      vni = jnp.matmul(v0, jnp.linalg.matrix_power(P, nforecast))\n",
        "      if state == 'R':\n",
        "        p = vni[2:].sum()\n",
        "        print(p)\n",
        "      elif state == 'S':\n",
        "        p = vni[:2].sum()\n",
        "      else:\n",
        "        print(\"Error: Not a valid state.\")\n",
        "        break\n",
        "    \n",
        "    plt.plot(list(range(1, nSim+1)), probs)\n",
        "      \n",
        "\n",
        "  return expectedVn, var"
      ],
      "metadata": {
        "id": "eVkRYsYndDU2"
      },
      "execution_count": null,
      "outputs": []
    },
    {
      "cell_type": "code",
      "source": [
        "# initial state vector\n",
        "v0 = jnp.array([1, 0, 0., 0., 0.])\n",
        "\n",
        "# transition matrix\n",
        "P = jnp.array([[0.5, 0., 0., 0., 0.5],\n",
        "               [0.7, 0., 0., 0., 0.3],\n",
        "               [0., 0.9, 0.1, 0., 0.],\n",
        "               [0, 0.75, 0.25, 0., 0.],\n",
        "               [0., 0.6, 0., 0.4, 0.]])\n",
        "\n",
        "monteCarlo(100, 7, v0, P, plot=True)"
      ],
      "metadata": {
        "colab": {
          "base_uri": "https://localhost:8080/",
          "height": 1000
        },
        "id": "UdorhIRU9QFJ",
        "outputId": "d17403ae-9e34-4ba6-809f-b52a6ce59297"
      },
      "execution_count": null,
      "outputs": [
        {
          "output_type": "stream",
          "name": "stdout",
          "text": [
            "0.38536853\n",
            "0.38536853\n",
            "0.38536853\n",
            "0.38536853\n",
            "0.38536853\n",
            "0.38536853\n",
            "0.38536853\n",
            "0.38536853\n",
            "0.38536853\n",
            "0.38536853\n",
            "0.38536853\n",
            "0.38536853\n",
            "0.38536853\n",
            "0.38536853\n",
            "0.38536853\n",
            "0.38536853\n",
            "0.38536853\n",
            "0.38536853\n",
            "0.38536853\n",
            "0.38536853\n",
            "0.38536853\n",
            "0.38536853\n",
            "0.38536853\n",
            "0.38536853\n",
            "0.38536853\n",
            "0.38536853\n",
            "0.38536853\n",
            "0.38536853\n",
            "0.38536853\n",
            "0.38536853\n",
            "0.38536853\n",
            "0.38536853\n",
            "0.38536853\n",
            "0.38536853\n",
            "0.38536853\n",
            "0.38536853\n",
            "0.38536853\n",
            "0.38536853\n",
            "0.38536853\n",
            "0.38536853\n",
            "0.38536853\n",
            "0.38536853\n",
            "0.38536853\n",
            "0.38536853\n",
            "0.38536853\n",
            "0.38536853\n",
            "0.38536853\n",
            "0.38536853\n",
            "0.38536853\n",
            "0.38536853\n",
            "0.38536853\n",
            "0.38536853\n",
            "0.38536853\n",
            "0.38536853\n",
            "0.38536853\n",
            "0.38536853\n",
            "0.38536853\n",
            "0.38536853\n",
            "0.38536853\n",
            "0.38536853\n",
            "0.38536853\n",
            "0.38536853\n",
            "0.38536853\n",
            "0.38536853\n",
            "0.38536853\n",
            "0.38536853\n",
            "0.38536853\n",
            "0.38536853\n",
            "0.38536853\n",
            "0.38536853\n",
            "0.38536853\n",
            "0.38536853\n",
            "0.38536853\n",
            "0.38536853\n",
            "0.38536853\n",
            "0.38536853\n",
            "0.38536853\n",
            "0.38536853\n",
            "0.38536853\n",
            "0.38536853\n",
            "0.38536853\n",
            "0.38536853\n",
            "0.38536853\n",
            "0.38536853\n",
            "0.38536853\n",
            "0.38536853\n",
            "0.38536853\n",
            "0.38536853\n",
            "0.38536853\n",
            "0.38536853\n",
            "0.38536853\n",
            "0.38536853\n",
            "0.38536853\n",
            "0.38536853\n",
            "0.38536853\n",
            "0.38536853\n",
            "0.38536853\n",
            "0.38536853\n",
            "0.38536853\n",
            "0.38536853\n"
          ]
        },
        {
          "output_type": "error",
          "ename": "ValueError",
          "evalue": "ignored",
          "traceback": [
            "\u001b[0;31m---------------------------------------------------------------------------\u001b[0m",
            "\u001b[0;31mValueError\u001b[0m                                Traceback (most recent call last)",
            "\u001b[0;32m<ipython-input-13-36944590f9bb>\u001b[0m in \u001b[0;36m<module>\u001b[0;34m()\u001b[0m\n\u001b[1;32m      9\u001b[0m                [0., 0.6, 0., 0.4, 0.]])\n\u001b[1;32m     10\u001b[0m \u001b[0;34m\u001b[0m\u001b[0m\n\u001b[0;32m---> 11\u001b[0;31m \u001b[0mmonteCarlo\u001b[0m\u001b[0;34m(\u001b[0m\u001b[0;36m100\u001b[0m\u001b[0;34m,\u001b[0m \u001b[0;36m7\u001b[0m\u001b[0;34m,\u001b[0m \u001b[0mv0\u001b[0m\u001b[0;34m,\u001b[0m \u001b[0mP\u001b[0m\u001b[0;34m,\u001b[0m \u001b[0mplot\u001b[0m\u001b[0;34m=\u001b[0m\u001b[0;32mTrue\u001b[0m\u001b[0;34m)\u001b[0m\u001b[0;34m\u001b[0m\u001b[0;34m\u001b[0m\u001b[0m\n\u001b[0m",
            "\u001b[0;32m<ipython-input-12-2b744eea54bd>\u001b[0m in \u001b[0;36mmonteCarlo\u001b[0;34m(nSim, nforecast, v0, P, plot, state)\u001b[0m\n\u001b[1;32m     39\u001b[0m         \u001b[0;32mbreak\u001b[0m\u001b[0;34m\u001b[0m\u001b[0;34m\u001b[0m\u001b[0m\n\u001b[1;32m     40\u001b[0m \u001b[0;34m\u001b[0m\u001b[0m\n\u001b[0;32m---> 41\u001b[0;31m     \u001b[0mplt\u001b[0m\u001b[0;34m.\u001b[0m\u001b[0mplot\u001b[0m\u001b[0;34m(\u001b[0m\u001b[0mlist\u001b[0m\u001b[0;34m(\u001b[0m\u001b[0mrange\u001b[0m\u001b[0;34m(\u001b[0m\u001b[0;36m1\u001b[0m\u001b[0;34m,\u001b[0m \u001b[0mnSim\u001b[0m\u001b[0;34m+\u001b[0m\u001b[0;36m1\u001b[0m\u001b[0;34m)\u001b[0m\u001b[0;34m)\u001b[0m\u001b[0;34m,\u001b[0m \u001b[0mprobs\u001b[0m\u001b[0;34m)\u001b[0m\u001b[0;34m\u001b[0m\u001b[0;34m\u001b[0m\u001b[0m\n\u001b[0m\u001b[1;32m     42\u001b[0m \u001b[0;34m\u001b[0m\u001b[0m\n\u001b[1;32m     43\u001b[0m \u001b[0;34m\u001b[0m\u001b[0m\n",
            "\u001b[0;32m/usr/local/lib/python3.7/dist-packages/matplotlib/pyplot.py\u001b[0m in \u001b[0;36mplot\u001b[0;34m(scalex, scaley, data, *args, **kwargs)\u001b[0m\n\u001b[1;32m   2761\u001b[0m     return gca().plot(\n\u001b[1;32m   2762\u001b[0m         *args, scalex=scalex, scaley=scaley, **({\"data\": data} if data\n\u001b[0;32m-> 2763\u001b[0;31m         is not None else {}), **kwargs)\n\u001b[0m\u001b[1;32m   2764\u001b[0m \u001b[0;34m\u001b[0m\u001b[0m\n\u001b[1;32m   2765\u001b[0m \u001b[0;34m\u001b[0m\u001b[0m\n",
            "\u001b[0;32m/usr/local/lib/python3.7/dist-packages/matplotlib/axes/_axes.py\u001b[0m in \u001b[0;36mplot\u001b[0;34m(self, scalex, scaley, data, *args, **kwargs)\u001b[0m\n\u001b[1;32m   1645\u001b[0m         \"\"\"\n\u001b[1;32m   1646\u001b[0m         \u001b[0mkwargs\u001b[0m \u001b[0;34m=\u001b[0m \u001b[0mcbook\u001b[0m\u001b[0;34m.\u001b[0m\u001b[0mnormalize_kwargs\u001b[0m\u001b[0;34m(\u001b[0m\u001b[0mkwargs\u001b[0m\u001b[0;34m,\u001b[0m \u001b[0mmlines\u001b[0m\u001b[0;34m.\u001b[0m\u001b[0mLine2D\u001b[0m\u001b[0;34m)\u001b[0m\u001b[0;34m\u001b[0m\u001b[0;34m\u001b[0m\u001b[0m\n\u001b[0;32m-> 1647\u001b[0;31m         \u001b[0mlines\u001b[0m \u001b[0;34m=\u001b[0m \u001b[0;34m[\u001b[0m\u001b[0;34m*\u001b[0m\u001b[0mself\u001b[0m\u001b[0;34m.\u001b[0m\u001b[0m_get_lines\u001b[0m\u001b[0;34m(\u001b[0m\u001b[0;34m*\u001b[0m\u001b[0margs\u001b[0m\u001b[0;34m,\u001b[0m \u001b[0mdata\u001b[0m\u001b[0;34m=\u001b[0m\u001b[0mdata\u001b[0m\u001b[0;34m,\u001b[0m \u001b[0;34m**\u001b[0m\u001b[0mkwargs\u001b[0m\u001b[0;34m)\u001b[0m\u001b[0;34m]\u001b[0m\u001b[0;34m\u001b[0m\u001b[0;34m\u001b[0m\u001b[0m\n\u001b[0m\u001b[1;32m   1648\u001b[0m         \u001b[0;32mfor\u001b[0m \u001b[0mline\u001b[0m \u001b[0;32min\u001b[0m \u001b[0mlines\u001b[0m\u001b[0;34m:\u001b[0m\u001b[0;34m\u001b[0m\u001b[0;34m\u001b[0m\u001b[0m\n\u001b[1;32m   1649\u001b[0m             \u001b[0mself\u001b[0m\u001b[0;34m.\u001b[0m\u001b[0madd_line\u001b[0m\u001b[0;34m(\u001b[0m\u001b[0mline\u001b[0m\u001b[0;34m)\u001b[0m\u001b[0;34m\u001b[0m\u001b[0;34m\u001b[0m\u001b[0m\n",
            "\u001b[0;32m/usr/local/lib/python3.7/dist-packages/matplotlib/axes/_base.py\u001b[0m in \u001b[0;36m__call__\u001b[0;34m(self, *args, **kwargs)\u001b[0m\n\u001b[1;32m    214\u001b[0m                 \u001b[0mthis\u001b[0m \u001b[0;34m+=\u001b[0m \u001b[0margs\u001b[0m\u001b[0;34m[\u001b[0m\u001b[0;36m0\u001b[0m\u001b[0;34m]\u001b[0m\u001b[0;34m,\u001b[0m\u001b[0;34m\u001b[0m\u001b[0;34m\u001b[0m\u001b[0m\n\u001b[1;32m    215\u001b[0m                 \u001b[0margs\u001b[0m \u001b[0;34m=\u001b[0m \u001b[0margs\u001b[0m\u001b[0;34m[\u001b[0m\u001b[0;36m1\u001b[0m\u001b[0;34m:\u001b[0m\u001b[0;34m]\u001b[0m\u001b[0;34m\u001b[0m\u001b[0;34m\u001b[0m\u001b[0m\n\u001b[0;32m--> 216\u001b[0;31m             \u001b[0;32myield\u001b[0m \u001b[0;32mfrom\u001b[0m \u001b[0mself\u001b[0m\u001b[0;34m.\u001b[0m\u001b[0m_plot_args\u001b[0m\u001b[0;34m(\u001b[0m\u001b[0mthis\u001b[0m\u001b[0;34m,\u001b[0m \u001b[0mkwargs\u001b[0m\u001b[0;34m)\u001b[0m\u001b[0;34m\u001b[0m\u001b[0;34m\u001b[0m\u001b[0m\n\u001b[0m\u001b[1;32m    217\u001b[0m \u001b[0;34m\u001b[0m\u001b[0m\n\u001b[1;32m    218\u001b[0m     \u001b[0;32mdef\u001b[0m \u001b[0mget_next_color\u001b[0m\u001b[0;34m(\u001b[0m\u001b[0mself\u001b[0m\u001b[0;34m)\u001b[0m\u001b[0;34m:\u001b[0m\u001b[0;34m\u001b[0m\u001b[0;34m\u001b[0m\u001b[0m\n",
            "\u001b[0;32m/usr/local/lib/python3.7/dist-packages/matplotlib/axes/_base.py\u001b[0m in \u001b[0;36m_plot_args\u001b[0;34m(self, tup, kwargs)\u001b[0m\n\u001b[1;32m    340\u001b[0m \u001b[0;34m\u001b[0m\u001b[0m\n\u001b[1;32m    341\u001b[0m         \u001b[0;32mif\u001b[0m \u001b[0mx\u001b[0m\u001b[0;34m.\u001b[0m\u001b[0mshape\u001b[0m\u001b[0;34m[\u001b[0m\u001b[0;36m0\u001b[0m\u001b[0;34m]\u001b[0m \u001b[0;34m!=\u001b[0m \u001b[0my\u001b[0m\u001b[0;34m.\u001b[0m\u001b[0mshape\u001b[0m\u001b[0;34m[\u001b[0m\u001b[0;36m0\u001b[0m\u001b[0;34m]\u001b[0m\u001b[0;34m:\u001b[0m\u001b[0;34m\u001b[0m\u001b[0;34m\u001b[0m\u001b[0m\n\u001b[0;32m--> 342\u001b[0;31m             raise ValueError(f\"x and y must have same first dimension, but \"\n\u001b[0m\u001b[1;32m    343\u001b[0m                              f\"have shapes {x.shape} and {y.shape}\")\n\u001b[1;32m    344\u001b[0m         \u001b[0;32mif\u001b[0m \u001b[0mx\u001b[0m\u001b[0;34m.\u001b[0m\u001b[0mndim\u001b[0m \u001b[0;34m>\u001b[0m \u001b[0;36m2\u001b[0m \u001b[0;32mor\u001b[0m \u001b[0my\u001b[0m\u001b[0;34m.\u001b[0m\u001b[0mndim\u001b[0m \u001b[0;34m>\u001b[0m \u001b[0;36m2\u001b[0m\u001b[0;34m:\u001b[0m\u001b[0;34m\u001b[0m\u001b[0;34m\u001b[0m\u001b[0m\n",
            "\u001b[0;31mValueError\u001b[0m: x and y must have same first dimension, but have shapes (100,) and (0,)"
          ]
        },
        {
          "output_type": "display_data",
          "data": {
            "image/png": "[encoded data removed]",
            "text/plain": [
              "<Figure size 432x288 with 1 Axes>"
            ]
          },
          "metadata": {
            "needs_background": "light"
          }
        }
      ]
    },
    {
      "cell_type": "markdown",
      "source": [
        "### c)"
      ],
      "metadata": {
        "id": "URC5uxiXJVwq"
      }
    },
    {
      "cell_type": "code",
      "source": [
        "# initial state vector\n",
        "v0 = jnp.array([1, 0, 0., 0., 0.])\n",
        "\n",
        "# transition matrix\n",
        "P = jnp.array([[0.5, 0., 0., 0., 0.5],\n",
        "               [0.7, 0., 0., 0., 0.3],\n",
        "               [0., 0.9, 0.1, 0., 0.],\n",
        "               [0, 0.75, 0.25, 0., 0.],\n",
        "               [0., 0.6, 0., 0.4, 0.]])"
      ],
      "metadata": {
        "id": "7mwuoRH3Jasj"
      },
      "execution_count": null,
      "outputs": []
    },
    {
      "cell_type": "code",
      "source": [
        "n = int(input())"
      ],
      "metadata": {
        "colab": {
          "base_uri": "https://localhost:8080/"
        },
        "id": "WasMlb7N3I89",
        "outputId": "c368be84-5dcf-4603-986c-6251bef17cff"
      },
      "execution_count": null,
      "outputs": [
        {
          "name": "stdout",
          "output_type": "stream",
          "text": [
            "5\n"
          ]
        }
      ]
    },
    {
      "cell_type": "code",
      "source": [
        "vn = jnp.matmul(v0, jnp.linalg.matrix_power(P, n))\n",
        "print(\"Probability of rain on day \" + str(n) + \": \" + str(vn[3] + vn[4] + vn[5]))"
      ],
      "metadata": {
        "colab": {
          "base_uri": "https://localhost:8080/"
        },
        "id": "SRN2JzCN3ZXE",
        "outputId": "c121dbaf-b2af-4c37-80be-8c04f5e1d8f5"
      },
      "execution_count": null,
      "outputs": [
        {
          "output_type": "stream",
          "name": "stdout",
          "text": [
            "Probability of rain on day 5: 0.6299\n"
          ]
        }
      ]
    },
    {
      "cell_type": "markdown",
      "source": [
        "### d)\n",
        "\n",
        "Every Markov chain has a stationary distribution which satisfies\n",
        "\n",
        "$$\n",
        "\\mathbf{v}_\\infty = \\mathbf{v}_\\infty \\cdot \\mathbf{\\text{P}} \n",
        "$$\n",
        "\n",
        "where $\\mathbf{v}_\\infty = \\lim_{n \\to \\infty} \\mathbf{v}_n = \\lim_{n \\to \\infty} \\mathbf{v}_0 \\cdot \\mathbf{\\text{P}}^n$\n",
        "\\begin{align}\n",
        "  [p_1, p_2, p_3, p_4, p_5] &= [p_1, p_2, p_3, p_4, p_5] \\begin{bmatrix}\n",
        "  0.5 & 0 & 0 & 0 & 0.5 \\\\\n",
        "  0.7 & 0 & 0 & 0 & 0.3 \\\\\n",
        "  0 & 0.9 & 0.1 & 0 & 0 \\\\\n",
        "  0 & 0.75 & 0.25 & 0 & 0 \\\\\n",
        "  0 & 0.6 & 0 & 0.4 & 0\n",
        "\\end{bmatrix}\n",
        "\\end{align}\n",
        " \n",
        " Thus we have five equations in five unknowns\n",
        "\\begin{align}\n",
        "0.5p_1 + 0.7p_2 &= p_1 \\implies -0.5p_1 + 0.7p_2 &= 0 \\qquad (1)\\\\\n",
        "0.9p_3 + 0.75p_4 + 0.6p_5 &= p_2 \\implies -p_2 + 0.9p_3 + 0.75p_4 + 0.6p_5 & = 0\\qquad (2) \\\\\n",
        "0.1p_3 + 0.25p_4 &= p_3 \\implies -0.9p_3 +0.25p_4 &= 0 \\qquad (3) \\\\\n",
        "0.4p_5 &= p_4 \\implies -p_4 + 0.4p_5 &= 0 \\qquad (4)\\\\\n",
        "0.5p_1 + 0.3p_2 &= p_5 \\implies 0.5p_1 + 0.3p_2 - p_5 &= 0\\qquad (5)\n",
        "\\end{align}\n",
        "\n",
        "And so we have the form $\\text{A}\\mathbf{x} = \\mathbf{b}$ where \n",
        "$$\\text{A} = \\begin{bmatrix}\n",
        "-0.5 & 0.7 & 0 & 0 & 0\\\\\n",
        "0 & -1 & 0.9 & 0.75 & 0.6\\\\\n",
        "0 & 0 & -0.9 & 0.25 & 0\\\\\n",
        "0 & 0 & 0 & -1 & 0.4\\\\\n",
        "0.5 & 0.3 & 0 & 0 & -1\\\\\n",
        "\\end{bmatrix};\n",
        "\\qquad\\mathbf{x}= [p_1, p_2, p_3, p_4, p_5];\n",
        "\\qquad\\mathbf{b} = \\mathbf{0}\n",
        "$$"
      ],
      "metadata": {
        "id": "MAKBULwaW2hc"
      }
    },
    {
      "cell_type": "code",
      "source": [
        "a = jnp.array([[-0.5, 0.7, 0., 0., 0.],\n",
        "               [0., -1., 0.9, 0.75, 0.6],\n",
        "               [0., 0., -0.9, 0.25, 0.],\n",
        "               [0., 0., 0., -1., 0.4],\n",
        "               [0.5, 0.3, 0., 0., -1.]])\n",
        "\n",
        "b = [0., 0., 0., 0., 0.]\n",
        "\n",
        "v_infty = jnp.linalg.solve(a, b)\n",
        "print(v_infty)"
      ],
      "metadata": {
        "colab": {
          "base_uri": "https://localhost:8080/"
        },
        "id": "vmSU4LmJcJIr",
        "outputId": "b33e7540-ee2c-406d-9226-75beeb335c1c"
      },
      "execution_count": null,
      "outputs": [
        {
          "output_type": "stream",
          "name": "stdout",
          "text": [
            "[nan nan nan nan nan]\n"
          ]
        }
      ]
    }
  ]
}